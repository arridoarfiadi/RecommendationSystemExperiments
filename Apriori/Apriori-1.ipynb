{
 "cells": [
  {
   "cell_type": "code",
   "execution_count": 1,
   "metadata": {},
   "outputs": [
    {
     "name": "stdout",
     "output_type": "stream",
     "text": [
      "Collecting mlxtend\n",
      "\u001b[?25l  Downloading https://files.pythonhosted.org/packages/52/04/c362f34f666f0ddc7cf593805e64d64fa670ed96fd9302e68549dd48287d/mlxtend-0.17.0-py2.py3-none-any.whl (1.3MB)\n",
      "\u001b[K    100% |████████████████████████████████| 1.3MB 21.9MB/s ta 0:00:01\n",
      "\u001b[?25hRequirement already satisfied: pandas>=0.24.2 in /home/ec2-user/anaconda3/envs/python3/lib/python3.6/site-packages (from mlxtend) (0.24.2)\n",
      "Collecting scipy>=1.2.1 (from mlxtend)\n",
      "  Using cached https://files.pythonhosted.org/packages/29/50/a552a5aff252ae915f522e44642bb49a7b7b31677f9580cfd11bcc869976/scipy-1.3.1-cp36-cp36m-manylinux1_x86_64.whl\n",
      "Collecting joblib>=0.13.2 (from mlxtend)\n",
      "\u001b[?25l  Downloading https://files.pythonhosted.org/packages/cd/c1/50a758e8247561e58cb87305b1e90b171b8c767b15b12a1734001f41d356/joblib-0.13.2-py2.py3-none-any.whl (278kB)\n",
      "\u001b[K    100% |████████████████████████████████| 286kB 42.7MB/s ta 0:00:01\n",
      "\u001b[?25hRequirement already satisfied: matplotlib>=3.0.0 in /home/ec2-user/anaconda3/envs/python3/lib/python3.6/site-packages (from mlxtend) (3.0.3)\n",
      "Collecting numpy>=1.16.2 (from mlxtend)\n",
      "\u001b[?25l  Downloading https://files.pythonhosted.org/packages/e5/e6/c3fdc53aed9fa19d6ff3abf97dfad768ae3afce1b7431f7500000816bda5/numpy-1.17.2-cp36-cp36m-manylinux1_x86_64.whl (20.4MB)\n",
      "\u001b[K    100% |████████████████████████████████| 20.4MB 2.5MB/s eta 0:00:01\n",
      "\u001b[?25hRequirement already satisfied: scikit-learn>=0.20.3 in /home/ec2-user/anaconda3/envs/python3/lib/python3.6/site-packages (from mlxtend) (0.20.3)\n",
      "Requirement already satisfied: setuptools in /home/ec2-user/anaconda3/envs/python3/lib/python3.6/site-packages (from mlxtend) (39.1.0)\n",
      "Requirement already satisfied: pytz>=2011k in /home/ec2-user/anaconda3/envs/python3/lib/python3.6/site-packages (from pandas>=0.24.2->mlxtend) (2018.4)\n",
      "Requirement already satisfied: python-dateutil>=2.5.0 in /home/ec2-user/anaconda3/envs/python3/lib/python3.6/site-packages (from pandas>=0.24.2->mlxtend) (2.7.3)\n",
      "Requirement already satisfied: cycler>=0.10 in /home/ec2-user/anaconda3/envs/python3/lib/python3.6/site-packages (from matplotlib>=3.0.0->mlxtend) (0.10.0)\n",
      "Requirement already satisfied: pyparsing!=2.0.4,!=2.1.2,!=2.1.6,>=2.0.1 in /home/ec2-user/anaconda3/envs/python3/lib/python3.6/site-packages (from matplotlib>=3.0.0->mlxtend) (2.2.0)\n",
      "Requirement already satisfied: kiwisolver>=1.0.1 in /home/ec2-user/anaconda3/envs/python3/lib/python3.6/site-packages (from matplotlib>=3.0.0->mlxtend) (1.0.1)\n",
      "Requirement already satisfied: six>=1.5 in /home/ec2-user/anaconda3/envs/python3/lib/python3.6/site-packages (from python-dateutil>=2.5.0->pandas>=0.24.2->mlxtend) (1.11.0)\n",
      "Installing collected packages: numpy, scipy, joblib, mlxtend\n",
      "  Found existing installation: numpy 1.14.3\n",
      "    Uninstalling numpy-1.14.3:\n",
      "      Successfully uninstalled numpy-1.14.3\n",
      "  Found existing installation: scipy 1.1.0\n",
      "    Uninstalling scipy-1.1.0:\n",
      "      Successfully uninstalled scipy-1.1.0\n",
      "Successfully installed joblib-0.13.2 mlxtend-0.17.0 numpy-1.17.2 scipy-1.3.1\n",
      "\u001b[33mYou are using pip version 10.0.1, however version 19.2.3 is available.\n",
      "You should consider upgrading via the 'pip install --upgrade pip' command.\u001b[0m\n",
      "Collecting pyfpgrowth\n",
      "\u001b[?25l  Downloading https://files.pythonhosted.org/packages/d2/4c/8b7cd90b4118ff0286d6584909b99e1ca5642bdc9072fa5a8dd361c864a0/pyfpgrowth-1.0.tar.gz (1.6MB)\n",
      "\u001b[K    100% |████████████████████████████████| 1.6MB 20.2MB/s ta 0:00:01\n",
      "\u001b[?25hBuilding wheels for collected packages: pyfpgrowth\n",
      "  Running setup.py bdist_wheel for pyfpgrowth ... \u001b[?25ldone\n",
      "\u001b[?25h  Stored in directory: /home/ec2-user/.cache/pip/wheels/3b/3f/0d/a04bb8b17887c1eca7d0f1a48d4aa0c09c96eb221ff7fa56c1\n",
      "Successfully built pyfpgrowth\n",
      "Installing collected packages: pyfpgrowth\n",
      "Successfully installed pyfpgrowth-1.0\n",
      "\u001b[33mYou are using pip version 10.0.1, however version 19.2.3 is available.\n",
      "You should consider upgrading via the 'pip install --upgrade pip' command.\u001b[0m\n"
     ]
    }
   ],
   "source": [
    "! pip install mlxtend\n",
    "! pip install pyfpgrowth\n",
    "from mlxtend.frequent_patterns import association_rules, apriori\n",
    "import pandas as pd\n",
    "from mlxtend.preprocessing import TransactionEncoder\n",
    "from sqlalchemy import create_engine\n",
    "from sklearn.externals import joblib\n",
    "import pyfpgrowth as fpg\n",
    "from sagemaker import get_execution_role\n",
    "import boto3\n",
    "from s3fs.core import S3FileSystem\n",
    "import pickle\n",
    "pd.set_option('display.max_colwidth', -1)\n",
    "pd.set_option('display.max_column', None)"
   ]
  },
  {
   "cell_type": "code",
   "execution_count": 2,
   "metadata": {},
   "outputs": [],
   "source": [
    "import pyfpgrowth as fpg"
   ]
  },
  {
   "cell_type": "code",
   "execution_count": 3,
   "metadata": {},
   "outputs": [
    {
     "data": {
      "text/html": [
       "<div>\n",
       "<style scoped>\n",
       "    .dataframe tbody tr th:only-of-type {\n",
       "        vertical-align: middle;\n",
       "    }\n",
       "\n",
       "    .dataframe tbody tr th {\n",
       "        vertical-align: top;\n",
       "    }\n",
       "\n",
       "    .dataframe thead th {\n",
       "        text-align: right;\n",
       "    }\n",
       "</style>\n",
       "<table border=\"1\" class=\"dataframe\">\n",
       "  <thead>\n",
       "    <tr style=\"text-align: right;\">\n",
       "      <th></th>\n",
       "      <th>OrderID</th>\n",
       "      <th>ProductID</th>\n",
       "    </tr>\n",
       "  </thead>\n",
       "  <tbody>\n",
       "    <tr>\n",
       "      <th>0</th>\n",
       "      <td>1</td>\n",
       "      <td>[49302, 11109, 10246, 49683, 43633, 13176, 47209, 22035]</td>\n",
       "    </tr>\n",
       "    <tr>\n",
       "      <th>1</th>\n",
       "      <td>2</td>\n",
       "      <td>[33120, 28985, 9327, 45918, 30035, 17794, 40141, 1819, 43668]</td>\n",
       "    </tr>\n",
       "    <tr>\n",
       "      <th>2</th>\n",
       "      <td>3</td>\n",
       "      <td>[33754, 24838, 17704, 21903, 17668, 46667, 17461, 32665]</td>\n",
       "    </tr>\n",
       "    <tr>\n",
       "      <th>3</th>\n",
       "      <td>4</td>\n",
       "      <td>[46842, 26434, 39758, 27761, 10054, 21351, 22598, 34862, 40285, 17616, 25146, 32645, 41276]</td>\n",
       "    </tr>\n",
       "    <tr>\n",
       "      <th>4</th>\n",
       "      <td>5</td>\n",
       "      <td>[13176, 15005, 47329, 27966, 23909, 48370, 13245, 9633, 27360, 6348, 40878, 6184, 48002, 20914, 37011, 12962, 45698, 24773, 18569, 41176, 48366, 47209, 46522, 38693, 48825, 8479]</td>\n",
       "    </tr>\n",
       "  </tbody>\n",
       "</table>\n",
       "</div>"
      ],
      "text/plain": [
       "   OrderID  \\\n",
       "0  1         \n",
       "1  2         \n",
       "2  3         \n",
       "3  4         \n",
       "4  5         \n",
       "\n",
       "                                                                                                                                                                            ProductID  \n",
       "0  [49302, 11109, 10246, 49683, 43633, 13176, 47209, 22035]                                                                                                                            \n",
       "1  [33120, 28985, 9327, 45918, 30035, 17794, 40141, 1819, 43668]                                                                                                                       \n",
       "2  [33754, 24838, 17704, 21903, 17668, 46667, 17461, 32665]                                                                                                                            \n",
       "3  [46842, 26434, 39758, 27761, 10054, 21351, 22598, 34862, 40285, 17616, 25146, 32645, 41276]                                                                                         \n",
       "4  [13176, 15005, 47329, 27966, 23909, 48370, 13245, 9633, 27360, 6348, 40878, 6184, 48002, 20914, 37011, 12962, 45698, 24773, 18569, 41176, 48366, 47209, 46522, 38693, 48825, 8479]  "
      ]
     },
     "execution_count": 3,
     "metadata": {},
     "output_type": "execute_result"
    }
   ],
   "source": [
    "#productsPerOrder \n",
    "role = get_execution_role()\n",
    "bucket='instacartresearchsymposium'\n",
    "data_key = 'productsPerOrder.pickle'\n",
    "\n",
    "s3 = S3FileSystem(anon=False)\n",
    "\n",
    "test = pickle.load(s3.open('{}/{}'.format(bucket, data_key), mode='rb'))\n",
    "test.head()"
   ]
  },
  {
   "cell_type": "code",
   "execution_count": 7,
   "metadata": {},
   "outputs": [
    {
     "data": {
      "text/html": [
       "<div>\n",
       "<style scoped>\n",
       "    .dataframe tbody tr th:only-of-type {\n",
       "        vertical-align: middle;\n",
       "    }\n",
       "\n",
       "    .dataframe tbody tr th {\n",
       "        vertical-align: top;\n",
       "    }\n",
       "\n",
       "    .dataframe thead th {\n",
       "        text-align: right;\n",
       "    }\n",
       "</style>\n",
       "<table border=\"1\" class=\"dataframe\">\n",
       "  <thead>\n",
       "    <tr style=\"text-align: right;\">\n",
       "      <th></th>\n",
       "      <th>OrderID</th>\n",
       "      <th>ProductID</th>\n",
       "    </tr>\n",
       "  </thead>\n",
       "  <tbody>\n",
       "    <tr>\n",
       "      <th>0</th>\n",
       "      <td>12</td>\n",
       "      <td>[30597, 15221, 43772, 37886, 37215, 34335, 3164, 26910, 38888, 38050, 25213, 11175, 23390, 29471, 43511]</td>\n",
       "    </tr>\n",
       "    <tr>\n",
       "      <th>1</th>\n",
       "      <td>18</td>\n",
       "      <td>[8021, 34969, 1000, 5212, 36011, 44632, 46969, 27966, 38985, 26648, 48745, 7948, 4802, 28934, 2116, 45495, 32018, 27644, 4656, 9848, 17568, 23339, 7308, 35547, 33279, 46979, 47766, 1057]</td>\n",
       "    </tr>\n",
       "    <tr>\n",
       "      <th>2</th>\n",
       "      <td>22</td>\n",
       "      <td>[23909, 22754, 24852, 28993, 41273, 23341, 46941, 39993, 19068, 21410, 17341, 40593, 46979, 31268]</td>\n",
       "    </tr>\n",
       "    <tr>\n",
       "      <th>3</th>\n",
       "      <td>28</td>\n",
       "      <td>[35108, 40593, 17461, 22825, 25256, 47626, 37220, 12980, 27548, 45504, 18531, 47209, 24024, 38544, 37288, 31915]</td>\n",
       "    </tr>\n",
       "    <tr>\n",
       "      <th>4</th>\n",
       "      <td>45</td>\n",
       "      <td>[16349]</td>\n",
       "    </tr>\n",
       "  </tbody>\n",
       "</table>\n",
       "</div>"
      ],
      "text/plain": [
       "   OrderID  \\\n",
       "0  12        \n",
       "1  18        \n",
       "2  22        \n",
       "3  28        \n",
       "4  45        \n",
       "\n",
       "                                                                                                                                                                                    ProductID  \n",
       "0  [30597, 15221, 43772, 37886, 37215, 34335, 3164, 26910, 38888, 38050, 25213, 11175, 23390, 29471, 43511]                                                                                    \n",
       "1  [8021, 34969, 1000, 5212, 36011, 44632, 46969, 27966, 38985, 26648, 48745, 7948, 4802, 28934, 2116, 45495, 32018, 27644, 4656, 9848, 17568, 23339, 7308, 35547, 33279, 46979, 47766, 1057]  \n",
       "2  [23909, 22754, 24852, 28993, 41273, 23341, 46941, 39993, 19068, 21410, 17341, 40593, 46979, 31268]                                                                                          \n",
       "3  [35108, 40593, 17461, 22825, 25256, 47626, 37220, 12980, 27548, 45504, 18531, 47209, 24024, 38544, 37288, 31915]                                                                            \n",
       "4  [16349]                                                                                                                                                                                     "
      ]
     },
     "execution_count": 7,
     "metadata": {},
     "output_type": "execute_result"
    }
   ],
   "source": [
    "#productsPerOrder_user_id_filter - # of unique prodcuts bought\n",
    "\n",
    "role = get_execution_role()\n",
    "bucket='instacartresearchsymposium'\n",
    "data_key = 'productsPerOrder_user_id_filter.pickle'\n",
    "s3 = S3FileSystem(anon=False)\n",
    "\n",
    "\n",
    "test = pickle.load(s3.open('{}/{}'.format(bucket, data_key), mode='rb'))\n",
    "test.head()"
   ]
  },
  {
   "cell_type": "code",
   "execution_count": 8,
   "metadata": {},
   "outputs": [
    {
     "data": {
      "text/html": [
       "<div>\n",
       "<style scoped>\n",
       "    .dataframe tbody tr th:only-of-type {\n",
       "        vertical-align: middle;\n",
       "    }\n",
       "\n",
       "    .dataframe tbody tr th {\n",
       "        vertical-align: top;\n",
       "    }\n",
       "\n",
       "    .dataframe thead th {\n",
       "        text-align: right;\n",
       "    }\n",
       "</style>\n",
       "<table border=\"1\" class=\"dataframe\">\n",
       "  <thead>\n",
       "    <tr style=\"text-align: right;\">\n",
       "      <th></th>\n",
       "      <th>OrderID</th>\n",
       "      <th>ProductID</th>\n",
       "    </tr>\n",
       "  </thead>\n",
       "  <tbody>\n",
       "    <tr>\n",
       "      <th>0</th>\n",
       "      <td>3</td>\n",
       "      <td>[33754, 24838, 17704, 21903, 17668, 46667, 17461, 32665]</td>\n",
       "    </tr>\n",
       "    <tr>\n",
       "      <th>1</th>\n",
       "      <td>4</td>\n",
       "      <td>[46842, 26434, 39758, 27761, 10054, 21351, 22598, 34862, 40285, 17616, 25146, 32645, 41276]</td>\n",
       "    </tr>\n",
       "    <tr>\n",
       "      <th>2</th>\n",
       "      <td>5</td>\n",
       "      <td>[13176, 15005, 47329, 27966, 23909, 48370, 13245, 9633, 27360, 6348, 40878, 6184, 48002, 20914, 37011, 12962, 45698, 24773, 18569, 41176, 48366, 47209, 46522, 38693, 48825, 8479]</td>\n",
       "    </tr>\n",
       "    <tr>\n",
       "      <th>3</th>\n",
       "      <td>8</td>\n",
       "      <td>[23423]</td>\n",
       "    </tr>\n",
       "    <tr>\n",
       "      <th>4</th>\n",
       "      <td>12</td>\n",
       "      <td>[30597, 15221, 43772, 37886, 37215, 34335, 3164, 26910, 38888, 38050, 25213, 11175, 23390, 29471, 43511]</td>\n",
       "    </tr>\n",
       "  </tbody>\n",
       "</table>\n",
       "</div>"
      ],
      "text/plain": [
       "   OrderID  \\\n",
       "0  3         \n",
       "1  4         \n",
       "2  5         \n",
       "3  8         \n",
       "4  12        \n",
       "\n",
       "                                                                                                                                                                            ProductID  \n",
       "0  [33754, 24838, 17704, 21903, 17668, 46667, 17461, 32665]                                                                                                                            \n",
       "1  [46842, 26434, 39758, 27761, 10054, 21351, 22598, 34862, 40285, 17616, 25146, 32645, 41276]                                                                                         \n",
       "2  [13176, 15005, 47329, 27966, 23909, 48370, 13245, 9633, 27360, 6348, 40878, 6184, 48002, 20914, 37011, 12962, 45698, 24773, 18569, 41176, 48366, 47209, 46522, 38693, 48825, 8479]  \n",
       "3  [23423]                                                                                                                                                                             \n",
       "4  [30597, 15221, 43772, 37886, 37215, 34335, 3164, 26910, 38888, 38050, 25213, 11175, 23390, 29471, 43511]                                                                            "
      ]
     },
     "execution_count": 8,
     "metadata": {},
     "output_type": "execute_result"
    }
   ],
   "source": [
    "#productsPerOrder_user_id_filter_v2 # of orders\n",
    "\n",
    "role = get_execution_role()\n",
    "bucket='instacartresearchsymposium'\n",
    "data_key = 'productsPerOrder_user_id_filter_v2'\n",
    "s3 = S3FileSystem(anon=False)\n",
    "\n",
    "\n",
    "test = pickle.load(s3.open('{}/{}'.format(bucket, data_key), mode='rb'))\n",
    "test.head()"
   ]
  },
  {
   "cell_type": "code",
   "execution_count": 10,
   "metadata": {},
   "outputs": [
    {
     "data": {
      "text/html": [
       "<div>\n",
       "<style scoped>\n",
       "    .dataframe tbody tr th:only-of-type {\n",
       "        vertical-align: middle;\n",
       "    }\n",
       "\n",
       "    .dataframe tbody tr th {\n",
       "        vertical-align: top;\n",
       "    }\n",
       "\n",
       "    .dataframe thead th {\n",
       "        text-align: right;\n",
       "    }\n",
       "</style>\n",
       "<table border=\"1\" class=\"dataframe\">\n",
       "  <thead>\n",
       "    <tr style=\"text-align: right;\">\n",
       "      <th></th>\n",
       "      <th>UserID</th>\n",
       "      <th>ProductID</th>\n",
       "    </tr>\n",
       "  </thead>\n",
       "  <tbody>\n",
       "    <tr>\n",
       "      <th>0</th>\n",
       "      <td>1</td>\n",
       "      <td>[196, 12427, 10258, 25133, 10326, 17122, 41787, 13176, 30450, 13032, 49235, 46149, 26088, 14084, 39657, 38928, 35951, 27845]</td>\n",
       "    </tr>\n",
       "    <tr>\n",
       "      <th>1</th>\n",
       "      <td>2</td>\n",
       "      <td>[49451, 32792, 32139, 34688, 36735, 37646, 22829, 24852, 47209, 33276, 45613, 9681, 21150, 28918, 48110, 32052, 17758, 40198, 46886, 22963, 23, 20084, 2002, 5212, 14306, 16589, 1559, 19156, 18523, 22825, 27413, 33754, 21709, 7781, 2573, 39928, 20785, 24768, 7963, 12000, 27344, 45066, 27966, 46676, 17872, 24954, 4957, 40571, 41787, 19051, 4071, 22124, 22474, 8296, 21227, 16797, 47526, 8479, 47766, 8138, 47144, 5322, 17224, 38656, 21376, 48210, 5907, 14553, 13742, 18961, 15841, 13351, 5450, 48099, 49273, 47792, 9124, 22559, 33957, 27737, 20574, 28874, 35917, 30489, 13176, 3151, 19240, 10305, 24990, 36287, 42356, 12258, 42342, 30908, 79, 5869, 44303, 16521, 39877, 19057, ...]</td>\n",
       "    </tr>\n",
       "    <tr>\n",
       "      <th>2</th>\n",
       "      <td>3</td>\n",
       "      <td>[38596, 21903, 248, 40604, 17668, 21137, 23650, 32402, 39190, 47766, 43961, 18599, 1005, 9387, 15143, 16797, 39922, 24810, 1819, 24010, 14992, 22035, 44683, 12845, 16965, 28373, 42265, 18370, 49683, 7503, 48523, 42557]</td>\n",
       "    </tr>\n",
       "    <tr>\n",
       "      <th>3</th>\n",
       "      <td>4</td>\n",
       "      <td>[22199, 25146, 1200, 17769, 43704, 37646, 11865, 35469, 19057, 42329, 26576, 25623, 21573, 36606, 7350]</td>\n",
       "    </tr>\n",
       "    <tr>\n",
       "      <th>4</th>\n",
       "      <td>5</td>\n",
       "      <td>[27344, 24535, 43693, 40706, 16168, 21413, 13988, 3376, 8518, 26604, 11777, 5999, 6808, 21616, 18761, 13870, 20754, 24231, 15349, 48775, 28289, 31717, 22475, 19057, 16185, 20114, 48204]</td>\n",
       "    </tr>\n",
       "  </tbody>\n",
       "</table>\n",
       "</div>"
      ],
      "text/plain": [
       "   UserID  \\\n",
       "0  1        \n",
       "1  2        \n",
       "2  3        \n",
       "3  4        \n",
       "4  5        \n",
       "\n",
       "                                                                                                                                                                                                                                                                                                                                                                                                                                                                                                                                                                                                                                                                                                   ProductID  \n",
       "0  [196, 12427, 10258, 25133, 10326, 17122, 41787, 13176, 30450, 13032, 49235, 46149, 26088, 14084, 39657, 38928, 35951, 27845]                                                                                                                                                                                                                                                                                                                                                                                                                                                                                                                                                                               \n",
       "1  [49451, 32792, 32139, 34688, 36735, 37646, 22829, 24852, 47209, 33276, 45613, 9681, 21150, 28918, 48110, 32052, 17758, 40198, 46886, 22963, 23, 20084, 2002, 5212, 14306, 16589, 1559, 19156, 18523, 22825, 27413, 33754, 21709, 7781, 2573, 39928, 20785, 24768, 7963, 12000, 27344, 45066, 27966, 46676, 17872, 24954, 4957, 40571, 41787, 19051, 4071, 22124, 22474, 8296, 21227, 16797, 47526, 8479, 47766, 8138, 47144, 5322, 17224, 38656, 21376, 48210, 5907, 14553, 13742, 18961, 15841, 13351, 5450, 48099, 49273, 47792, 9124, 22559, 33957, 27737, 20574, 28874, 35917, 30489, 13176, 3151, 19240, 10305, 24990, 36287, 42356, 12258, 42342, 30908, 79, 5869, 44303, 16521, 39877, 19057, ...]  \n",
       "2  [38596, 21903, 248, 40604, 17668, 21137, 23650, 32402, 39190, 47766, 43961, 18599, 1005, 9387, 15143, 16797, 39922, 24810, 1819, 24010, 14992, 22035, 44683, 12845, 16965, 28373, 42265, 18370, 49683, 7503, 48523, 42557]                                                                                                                                                                                                                                                                                                                                                                                                                                                                                 \n",
       "3  [22199, 25146, 1200, 17769, 43704, 37646, 11865, 35469, 19057, 42329, 26576, 25623, 21573, 36606, 7350]                                                                                                                                                                                                                                                                                                                                                                                                                                                                                                                                                                                                    \n",
       "4  [27344, 24535, 43693, 40706, 16168, 21413, 13988, 3376, 8518, 26604, 11777, 5999, 6808, 21616, 18761, 13870, 20754, 24231, 15349, 48775, 28289, 31717, 22475, 19057, 16185, 20114, 48204]                                                                                                                                                                                                                                                                                                                                                                                                                                                                                                                  "
      ]
     },
     "execution_count": 10,
     "metadata": {},
     "output_type": "execute_result"
    }
   ],
   "source": [
    "#productPerUser_eatable - only grabbed \"eatable\" products per transaction\n",
    "\n",
    "role = get_execution_role()\n",
    "bucket='instacartresearchsymposium'\n",
    "data_key = 'productPerUser_eatable.pickle'\n",
    "s3 = S3FileSystem(anon=False)\n",
    "\n",
    "\n",
    "test = pickle.load(s3.open('{}/{}'.format(bucket, data_key), mode='rb'))\n",
    "test.head()"
   ]
  },
  {
   "cell_type": "code",
   "execution_count": 11,
   "metadata": {},
   "outputs": [
    {
     "data": {
      "text/html": [
       "<div>\n",
       "<style scoped>\n",
       "    .dataframe tbody tr th:only-of-type {\n",
       "        vertical-align: middle;\n",
       "    }\n",
       "\n",
       "    .dataframe tbody tr th {\n",
       "        vertical-align: top;\n",
       "    }\n",
       "\n",
       "    .dataframe thead th {\n",
       "        text-align: right;\n",
       "    }\n",
       "</style>\n",
       "<table border=\"1\" class=\"dataframe\">\n",
       "  <thead>\n",
       "    <tr style=\"text-align: right;\">\n",
       "      <th></th>\n",
       "      <th>UserID</th>\n",
       "      <th>ProductID</th>\n",
       "    </tr>\n",
       "  </thead>\n",
       "  <tbody>\n",
       "    <tr>\n",
       "      <th>0</th>\n",
       "      <td>1</td>\n",
       "      <td>[26405]</td>\n",
       "    </tr>\n",
       "    <tr>\n",
       "      <th>1</th>\n",
       "      <td>2</td>\n",
       "      <td>[47553, 12007]</td>\n",
       "    </tr>\n",
       "    <tr>\n",
       "      <th>2</th>\n",
       "      <td>3</td>\n",
       "      <td>[8021]</td>\n",
       "    </tr>\n",
       "    <tr>\n",
       "      <th>3</th>\n",
       "      <td>4</td>\n",
       "      <td>[7160, 2707]</td>\n",
       "    </tr>\n",
       "    <tr>\n",
       "      <th>4</th>\n",
       "      <td>5</td>\n",
       "      <td>[20843]</td>\n",
       "    </tr>\n",
       "  </tbody>\n",
       "</table>\n",
       "</div>"
      ],
      "text/plain": [
       "   UserID       ProductID\n",
       "0  1       [26405]       \n",
       "1  2       [47553, 12007]\n",
       "2  3       [8021]        \n",
       "3  4       [7160, 2707]  \n",
       "4  5       [20843]       "
      ]
     },
     "execution_count": 11,
     "metadata": {},
     "output_type": "execute_result"
    }
   ],
   "source": [
    "#productPerUser_non_eatable.pickle - grabbed non-eatble products per transaction\n",
    "\n",
    "role = get_execution_role()\n",
    "bucket='instacartresearchsymposium'\n",
    "data_key = 'productPerUser_non_eatable.pickle'\n",
    "s3 = S3FileSystem(anon=False)\n",
    "\n",
    "\n",
    "test = pickle.load(s3.open('{}/{}'.format(bucket, data_key), mode='rb'))\n",
    "test.head()"
   ]
  },
  {
   "cell_type": "code",
   "execution_count": 4,
   "metadata": {},
   "outputs": [
    {
     "data": {
      "text/plain": [
       "33460"
      ]
     },
     "execution_count": 4,
     "metadata": {},
     "output_type": "execute_result"
    }
   ],
   "source": [
    "TOTAL_NUMBER_OF_ORDER = len(test)\n",
    "\n",
    "def getThreshold(percentage):\n",
    "    return int((percentage/100) * TOTAL_NUMBER_OF_ORDER)\n",
    "\n",
    "getThreshold(1)"
   ]
  },
  {
   "cell_type": "code",
   "execution_count": 5,
   "metadata": {},
   "outputs": [
    {
     "data": {
      "text/plain": [
       "49685"
      ]
     },
     "execution_count": 5,
     "metadata": {},
     "output_type": "execute_result"
    }
   ],
   "source": [
    "#constant = 2300000\n",
    "te = TransactionEncoder()\n",
    "te_ary = te.fit(test.ProductID).transform(test.ProductID)\n",
    "df = pd.DataFrame(te_ary, columns=te.columns_)\n",
    "len(df.columns)"
   ]
  },
  {
   "cell_type": "code",
   "execution_count": 6,
   "metadata": {},
   "outputs": [
    {
     "ename": "MemoryError",
     "evalue": "Unable to allocate array with shape (166216314749, 2) and data type int64",
     "output_type": "error",
     "traceback": [
      "\u001b[0;31m---------------------------------------------------------------------------\u001b[0m",
      "\u001b[0;31mMemoryError\u001b[0m                               Traceback (most recent call last)",
      "\u001b[0;32m<ipython-input-6-1f89d6dcf393>\u001b[0m in \u001b[0;36m<module>\u001b[0;34m()\u001b[0m\n\u001b[0;32m----> 1\u001b[0;31m \u001b[0mfrequent_itemsets\u001b[0m \u001b[0;34m=\u001b[0m \u001b[0mapriori\u001b[0m\u001b[0;34m(\u001b[0m\u001b[0mdf\u001b[0m\u001b[0;34m,\u001b[0m \u001b[0mmin_support\u001b[0m\u001b[0;34m=\u001b[0m\u001b[0;36m0.05\u001b[0m\u001b[0;34m,\u001b[0m \u001b[0muse_colnames\u001b[0m\u001b[0;34m=\u001b[0m\u001b[0;32mTrue\u001b[0m\u001b[0;34m)\u001b[0m\u001b[0;34m\u001b[0m\u001b[0m\n\u001b[0m\u001b[1;32m      2\u001b[0m \u001b[0mfrequent_itemsets\u001b[0m\u001b[0;34m.\u001b[0m\u001b[0mhead\u001b[0m\u001b[0;34m(\u001b[0m\u001b[0;34m)\u001b[0m\u001b[0;34m\u001b[0m\u001b[0m\n",
      "\u001b[0;32m~/anaconda3/envs/python3/lib/python3.6/site-packages/mlxtend/frequent_patterns/apriori.py\u001b[0m in \u001b[0;36mapriori\u001b[0;34m(df, min_support, use_colnames, max_len, verbose, low_memory)\u001b[0m\n\u001b[1;32m    144\u001b[0m         \u001b[0;32mreturn\u001b[0m \u001b[0mnp\u001b[0m\u001b[0;34m.\u001b[0m\u001b[0marray\u001b[0m\u001b[0;34m(\u001b[0m\u001b[0mout\u001b[0m\u001b[0;34m)\u001b[0m\u001b[0;34m.\u001b[0m\u001b[0mreshape\u001b[0m\u001b[0;34m(\u001b[0m\u001b[0;34m-\u001b[0m\u001b[0;36m1\u001b[0m\u001b[0;34m)\u001b[0m\u001b[0;34m\u001b[0m\u001b[0m\n\u001b[1;32m    145\u001b[0m \u001b[0;34m\u001b[0m\u001b[0m\n\u001b[0;32m--> 146\u001b[0;31m     \u001b[0midxs\u001b[0m \u001b[0;34m=\u001b[0m \u001b[0mnp\u001b[0m\u001b[0;34m.\u001b[0m\u001b[0mwhere\u001b[0m\u001b[0;34m(\u001b[0m\u001b[0;34m(\u001b[0m\u001b[0mdf\u001b[0m\u001b[0;34m.\u001b[0m\u001b[0mvalues\u001b[0m \u001b[0;34m!=\u001b[0m \u001b[0;36m1\u001b[0m\u001b[0;34m)\u001b[0m \u001b[0;34m&\u001b[0m \u001b[0;34m(\u001b[0m\u001b[0mdf\u001b[0m\u001b[0;34m.\u001b[0m\u001b[0mvalues\u001b[0m \u001b[0;34m!=\u001b[0m \u001b[0;36m0\u001b[0m\u001b[0;34m)\u001b[0m\u001b[0;34m)\u001b[0m\u001b[0;34m\u001b[0m\u001b[0m\n\u001b[0m\u001b[1;32m    147\u001b[0m     \u001b[0;32mif\u001b[0m \u001b[0mlen\u001b[0m\u001b[0;34m(\u001b[0m\u001b[0midxs\u001b[0m\u001b[0;34m[\u001b[0m\u001b[0;36m0\u001b[0m\u001b[0;34m]\u001b[0m\u001b[0;34m)\u001b[0m \u001b[0;34m>\u001b[0m \u001b[0;36m0\u001b[0m\u001b[0;34m:\u001b[0m\u001b[0;34m\u001b[0m\u001b[0m\n\u001b[1;32m    148\u001b[0m         \u001b[0mval\u001b[0m \u001b[0;34m=\u001b[0m \u001b[0mdf\u001b[0m\u001b[0;34m.\u001b[0m\u001b[0mvalues\u001b[0m\u001b[0;34m[\u001b[0m\u001b[0midxs\u001b[0m\u001b[0;34m[\u001b[0m\u001b[0;36m0\u001b[0m\u001b[0;34m]\u001b[0m\u001b[0;34m[\u001b[0m\u001b[0;36m0\u001b[0m\u001b[0;34m]\u001b[0m\u001b[0;34m,\u001b[0m \u001b[0midxs\u001b[0m\u001b[0;34m[\u001b[0m\u001b[0;36m1\u001b[0m\u001b[0;34m]\u001b[0m\u001b[0;34m[\u001b[0m\u001b[0;36m0\u001b[0m\u001b[0;34m]\u001b[0m\u001b[0;34m]\u001b[0m\u001b[0;34m\u001b[0m\u001b[0m\n",
      "\u001b[0;32m<__array_function__ internals>\u001b[0m in \u001b[0;36mwhere\u001b[0;34m(*args, **kwargs)\u001b[0m\n",
      "\u001b[0;31mMemoryError\u001b[0m: Unable to allocate array with shape (166216314749, 2) and data type int64"
     ]
    }
   ],
   "source": [
    "frequent_itemsets = apriori(df, min_support=0.05, use_colnames=True)\n",
    "frequent_itemsets.head()"
   ]
  },
  {
   "cell_type": "code",
   "execution_count": null,
   "metadata": {},
   "outputs": [],
   "source": [
    "rules = association_rules(frequent_itemsets, metric=\"lift\", min_threshold=1.2)\n",
    "rules"
   ]
  },
  {
   "cell_type": "code",
   "execution_count": null,
   "metadata": {},
   "outputs": [],
   "source": []
  }
 ],
 "metadata": {
  "kernelspec": {
   "display_name": "conda_python3",
   "language": "python",
   "name": "conda_python3"
  },
  "language_info": {
   "codemirror_mode": {
    "name": "ipython",
    "version": 3
   },
   "file_extension": ".py",
   "mimetype": "text/x-python",
   "name": "python",
   "nbconvert_exporter": "python",
   "pygments_lexer": "ipython3",
   "version": "3.6.5"
  }
 },
 "nbformat": 4,
 "nbformat_minor": 4
}
