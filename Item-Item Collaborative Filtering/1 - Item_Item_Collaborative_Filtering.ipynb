{
 "cells": [
  {
   "cell_type": "markdown",
   "metadata": {},
   "source": [
    "# Import Libraries & Custom Function"
   ]
  },
  {
   "cell_type": "code",
   "execution_count": 1,
   "metadata": {},
   "outputs": [
    {
     "name": "stdout",
     "output_type": "stream",
     "text": [
      "Requirement already satisfied: pyfpgrowth in /home/ec2-user/anaconda3/envs/python3/lib/python3.6/site-packages (1.0)\n",
      "\u001b[33mYou are using pip version 10.0.1, however version 19.2.3 is available.\n",
      "You should consider upgrading via the 'pip install --upgrade pip' command.\u001b[0m\n"
     ]
    }
   ],
   "source": [
    "from itertools import combinations \n",
    "import pickle\n",
    "import pandas as pd\n",
    "import numpy as np\n",
    "!pip install pyfpgrowth\n",
    "import pyfpgrowth as pyfp\n",
    "import pandas as pd\n",
    "from sklearn.externals import joblib\n",
    "from sagemaker import get_execution_role\n",
    "import boto3\n",
    "import math\n",
    "from s3fs.core import S3FileSystem\n",
    "pd.set_option('display.max_colwidth', -1)\n",
    "pd.set_option('display.max_column', None)\n",
    "pd.set_option('display.max_row', None)\n",
    "\n",
    "def rSubset(arr, r): \n",
    "  \n",
    "    # return list of all subsets of length r \n",
    "    # to deal with duplicate subsets use  \n",
    "    # set(list(combinations(arr, r))) \n",
    "    return list(combinations(arr, r)) \n",
    "\n",
    "def insertUniquePairingIntoDict(dic, array):\n",
    "    for pair in rSubset(array, 2):\n",
    "        if dic.get(pair) == None:\n",
    "            dic[pair] = 1\n",
    "        else:\n",
    "            dic[pair] = dic[pair] + 1\n",
    "    return dic\n",
    "    \n",
    "def openPickle(name):\n",
    "    file = open(name, 'rb')\n",
    "    return pickle.load(file)"
   ]
  },
  {
   "cell_type": "markdown",
   "metadata": {},
   "source": [
    "# Turning Our Dictionary into a Matrix"
   ]
  },
  {
   "cell_type": "code",
   "execution_count": 2,
   "metadata": {},
   "outputs": [],
   "source": [
    "test = openPickle(\"productMatrix.pickle\")"
   ]
  },
  {
   "cell_type": "code",
   "execution_count": 3,
   "metadata": {},
   "outputs": [
    {
     "data": {
      "text/plain": [
       "0"
      ]
     },
     "execution_count": 3,
     "metadata": {},
     "output_type": "execute_result"
    }
   ],
   "source": [
    "freqMatrix = np.empty([49689, 49689], dtype=int)\n",
    "freqMatrix[0][0]"
   ]
  },
  {
   "cell_type": "markdown",
   "metadata": {},
   "source": [
    "## Adding the values into the matrix"
   ]
  },
  {
   "cell_type": "code",
   "execution_count": 4,
   "metadata": {},
   "outputs": [],
   "source": [
    "for keys in test.keys():\n",
    "    freqMatrix[keys[0]][keys[1]] += test[keys]\n",
    "    freqMatrix[keys[1]][keys[0]] += test[keys]\n"
   ]
  },
  {
   "cell_type": "markdown",
   "metadata": {},
   "source": [
    "## Get Similarity Angle Between Two Products"
   ]
  },
  {
   "cell_type": "code",
   "execution_count": 6,
   "metadata": {},
   "outputs": [],
   "source": [
    "def getSimilarity(product1,product2):\n",
    "    y1 = 0\n",
    "    y2 = 0\n",
    "    for freq in freqMatrix[product1]:\n",
    "        y1 += (freq * freq)\n",
    "    for freq in freqMatrix[product2]:\n",
    "        y2 += (freq * freq)\n",
    "    x = 0\n",
    "    for i in range(0,49689):\n",
    "        if (freqMatrix[product1][i] > 0) & (freqMatrix[product2][i] > 0):\n",
    "            x += freqMatrix[product1][i] * freqMatrix[product2][i]\n",
    "    return x / (math.sqrt(y1) * math.sqrt(y2))\n",
    "    \n",
    "# getSimilarity(21137,24852)\n"
   ]
  },
  {
   "cell_type": "markdown",
   "metadata": {},
   "source": [
    "# Get Similarities Between ALL Products"
   ]
  },
  {
   "cell_type": "code",
   "execution_count": 7,
   "metadata": {},
   "outputs": [],
   "source": [
    "def getAllSimilarities(i1):\n",
    "    similaritiesMatrix = {}\n",
    "    for i2 in freqMatrix[i1]:\n",
    "        if (freqMatrix[i1][i2] > 0) & (similaritiesMatrix.get((i1,i2)) == None):\n",
    "            similaritiesMatrix[(i1,i2)] = getSimilarity(i1,i2)\n",
    "    return similaritiesMatrix"
   ]
  },
  {
   "cell_type": "markdown",
   "metadata": {},
   "source": [
    "## Get Top 10 Closest Similarity"
   ]
  },
  {
   "cell_type": "code",
   "execution_count": 8,
   "metadata": {},
   "outputs": [],
   "source": [
    "\n",
    "def getTop10(simDictionary):\n",
    "    # Create a list of tuples sorted by index 1 i.e. value field     \n",
    "    sortedSimDictionary = sorted(simDictionary.items(), reverse=True ,  key=lambda x: x[1])\n",
    " \n",
    "    # Iterate over the sorted sequence\n",
    "    top10Items = {}\n",
    "    iCount = 0\n",
    "    for elem in sortedSimDictionary :\n",
    "        if iCount == 10:\n",
    "            break\n",
    "        #print(elem[0] , \" ::\" , elem[1] )\n",
    "        top10Items[elem[0][1]] = elem[1]\n",
    "        iCount += 1\n",
    "    return top10Items"
   ]
  },
  {
   "cell_type": "markdown",
   "metadata": {},
   "source": [
    "# Getting Top 10 For Demo Catalog Items"
   ]
  },
  {
   "cell_type": "code",
   "execution_count": 13,
   "metadata": {},
   "outputs": [],
   "source": [
    "catalog = {}\n",
    "catalogIds = [20114, 26209, 28555, 24852, 5038, 15221, 47578, 45190, 29503, 27958]\n",
    "for ids in catalogIds:\n",
    "    catalog[ids] = getTop10(getAllSimilarities(ids))\n",
    "# catalog"
   ]
  },
  {
   "cell_type": "markdown",
   "metadata": {},
   "source": [
    "## Save the Catalog "
   ]
  },
  {
   "cell_type": "code",
   "execution_count": 18,
   "metadata": {},
   "outputs": [],
   "source": [
    "with open('catalogPart2.pickle', 'wb') as handle:\n",
    "    pickle.dump(catalog, handle, protocol=pickle.HIGHEST_PROTOCOL)"
   ]
  },
  {
   "cell_type": "code",
   "execution_count": null,
   "metadata": {},
   "outputs": [],
   "source": []
  },
  {
   "cell_type": "code",
   "execution_count": null,
   "metadata": {},
   "outputs": [],
   "source": []
  },
  {
   "cell_type": "code",
   "execution_count": null,
   "metadata": {},
   "outputs": [],
   "source": []
  },
  {
   "cell_type": "code",
   "execution_count": 51,
   "metadata": {},
   "outputs": [],
   "source": [
    "#freqMatrixDictionary = {}\n",
    "#for i1 in range(0,49689):\n",
    "   # for i2 in freqMatrix[i1]:\n",
    "       # if (freqMatrix[i1][i2] > 0) & freqMatrixDictionary[(i1,i2)] == None:\n",
    "          #  freqMatrixDictionary[(i1,i2)] = getSimilarity(i1,i2)"
   ]
  },
  {
   "cell_type": "code",
   "execution_count": null,
   "metadata": {},
   "outputs": [],
   "source": [
    "#with open('freqMatrixDictionary.pickle', 'wb') as handle:\n",
    "   # pickle.dump(freqMatrixDictionary, handle, protocol=pickle.HIGHEST_PROTOCOL)"
   ]
  }
 ],
 "metadata": {
  "kernelspec": {
   "display_name": "conda_python3",
   "language": "python",
   "name": "conda_python3"
  },
  "language_info": {
   "codemirror_mode": {
    "name": "ipython",
    "version": 3
   },
   "file_extension": ".py",
   "mimetype": "text/x-python",
   "name": "python",
   "nbconvert_exporter": "python",
   "pygments_lexer": "ipython3",
   "version": "3.6.5"
  }
 },
 "nbformat": 4,
 "nbformat_minor": 4
}
