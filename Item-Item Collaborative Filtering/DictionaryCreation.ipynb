{
 "cells": [
  {
   "cell_type": "markdown",
   "metadata": {},
   "source": [
    "# Library Making"
   ]
  },
  {
   "cell_type": "code",
   "execution_count": 1,
   "metadata": {},
   "outputs": [],
   "source": [
    "from itertools import combinations \n",
    "import pickle\n",
    "import pandas as pd\n",
    "import numpy as np\n",
    "\n",
    "def rSubset(arr, r): \n",
    "  \n",
    "    # return list of all subsets of length r \n",
    "    # to deal with duplicate subsets use  \n",
    "    # set(list(combinations(arr, r))) \n",
    "    return list(combinations(arr, r)) \n",
    "\n",
    "def insertUniquePairingIntoDict(dic, array):\n",
    "    for pair in rSubset(array, 2):\n",
    "        if dic.get(pair) == None:\n",
    "            dic[pair] = 1\n",
    "        else:\n",
    "            dic[pair] = dic[pair] + 1\n",
    "    return dic\n",
    "    \n",
    "def openPickle(name):\n",
    "    file = open(name, 'rb')\n",
    "    return pickle.load(file)"
   ]
  },
  {
   "cell_type": "code",
   "execution_count": 2,
   "metadata": {},
   "outputs": [
    {
     "name": "stdout",
     "output_type": "stream",
     "text": [
      "Collecting pyfpgrowth\n",
      "\u001b[?25l  Downloading https://files.pythonhosted.org/packages/d2/4c/8b7cd90b4118ff0286d6584909b99e1ca5642bdc9072fa5a8dd361c864a0/pyfpgrowth-1.0.tar.gz (1.6MB)\n",
      "\u001b[K    100% |████████████████████████████████| 1.6MB 20.1MB/s ta 0:00:01\n",
      "\u001b[?25hBuilding wheels for collected packages: pyfpgrowth\n",
      "  Running setup.py bdist_wheel for pyfpgrowth ... \u001b[?25ldone\n",
      "\u001b[?25h  Stored in directory: /home/ec2-user/.cache/pip/wheels/3b/3f/0d/a04bb8b17887c1eca7d0f1a48d4aa0c09c96eb221ff7fa56c1\n",
      "Successfully built pyfpgrowth\n",
      "Installing collected packages: pyfpgrowth\n",
      "Successfully installed pyfpgrowth-1.0\n",
      "\u001b[33mYou are using pip version 10.0.1, however version 19.2.3 is available.\n",
      "You should consider upgrading via the 'pip install --upgrade pip' command.\u001b[0m\n"
     ]
    }
   ],
   "source": [
    "!pip install pyfpgrowth\n",
    "import pyfpgrowth as pyfp\n",
    "import pandas as pd\n",
    "from sklearn.externals import joblib\n",
    "from sagemaker import get_execution_role\n",
    "import boto3\n",
    "from s3fs.core import S3FileSystem\n",
    "import pickle\n",
    "pd.set_option('display.max_colwidth', -1)\n",
    "pd.set_option('display.max_column', None)"
   ]
  },
  {
   "cell_type": "code",
   "execution_count": 3,
   "metadata": {},
   "outputs": [],
   "source": [
    "pd.set_option('display.max_colwidth', -1)\n",
    "pd.set_option('display.max_column', None)\n",
    "pd.set_option('display.max_row', None)"
   ]
  },
  {
   "cell_type": "markdown",
   "metadata": {},
   "source": [
    "# Perform Dictionary Creation"
   ]
  },
  {
   "cell_type": "code",
   "execution_count": 4,
   "metadata": {},
   "outputs": [],
   "source": [
    "role = get_execution_role()\n",
    "bucket='instacartresearchsymposium'\n",
    "data_key = 'productPerUser.pickle'\n",
    "s3 = S3FileSystem(anon=False)\n",
    "produtcsPerUser = joblib.load(s3.open('{}/{}'.format(bucket, data_key), mode='rb'))"
   ]
  },
  {
   "cell_type": "code",
   "execution_count": 5,
   "metadata": {},
   "outputs": [],
   "source": [
    "matrixDict = {}\n",
    "iterNumber = 1\n",
    "for productIDs in produtcsPerUser.ProductID:\n",
    "    matrixDict = insertUniquePairingIntoDict(matrixDict,productIDs)\n",
    "    iterNumber += 1"
   ]
  },
  {
   "cell_type": "markdown",
   "metadata": {},
   "source": [
    "# Show 10 random"
   ]
  },
  {
   "cell_type": "code",
   "execution_count": 15,
   "metadata": {},
   "outputs": [
    {
     "name": "stdout",
     "output_type": "stream",
     "text": [
      "Item Pair:(196, 12427)\n",
      "Amount:357\n",
      "Item Pair:(196, 10258)\n",
      "Amount:137\n",
      "Item Pair:(196, 25133)\n",
      "Amount:48\n",
      "Item Pair:(196, 10326)\n",
      "Amount:217\n",
      "Item Pair:(196, 17122)\n",
      "Amount:405\n",
      "Item Pair:(196, 41787)\n",
      "Amount:277\n",
      "Item Pair:(196, 13176)\n",
      "Amount:1256\n",
      "Item Pair:(196, 30450)\n",
      "Amount:290\n",
      "Item Pair:(196, 13032)\n",
      "Amount:279\n",
      "Item Pair:(196, 26405)\n",
      "Amount:127\n"
     ]
    }
   ],
   "source": [
    "testI = 0\n",
    "for item in matrixDict.items():\n",
    "    if testI == 10:\n",
    "        break\n",
    "    print(\"Item Pair:\" + str(item[0]) + \"\\nAmount:\" + str(item[1]))\n",
    "    testI += 1"
   ]
  },
  {
   "cell_type": "markdown",
   "metadata": {},
   "source": [
    "# Saving"
   ]
  },
  {
   "cell_type": "code",
   "execution_count": null,
   "metadata": {},
   "outputs": [],
   "source": [
    "with open('productMatrix.pickle', 'wb') as handle:\n",
    "    pickle.dump(matrixDict, handle, protocol=pickle.HIGHEST_PROTOCOL)"
   ]
  },
  {
   "cell_type": "code",
   "execution_count": null,
   "metadata": {},
   "outputs": [],
   "source": []
  }
 ],
 "metadata": {
  "kernelspec": {
   "display_name": "conda_python3",
   "language": "python",
   "name": "conda_python3"
  },
  "language_info": {
   "codemirror_mode": {
    "name": "ipython",
    "version": 3
   },
   "file_extension": ".py",
   "mimetype": "text/x-python",
   "name": "python",
   "nbconvert_exporter": "python",
   "pygments_lexer": "ipython3",
   "version": "3.6.5"
  }
 },
 "nbformat": 4,
 "nbformat_minor": 4
}
