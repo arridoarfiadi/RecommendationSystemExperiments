{
 "cells": [
  {
   "cell_type": "code",
   "execution_count": 2,
   "metadata": {},
   "outputs": [],
   "source": [
    "from sklearn.externals import joblib\n",
    "import pandas as pd\n",
    "import numpy as np\n",
    "import seaborn as sb\n",
    "import matplotlib.pyplot as plt\n",
    "from matplotlib.colors import ListedColormap\n",
    "from sklearn import metrics\n",
    "from sklearn.datasets import make_classification\n",
    "from sklearn.ensemble import RandomForestClassifier\n",
    "from sklearn.linear_model import LogisticRegression\n",
    "from sklearn.naive_bayes import GaussianNB\n",
    "from sklearn.model_selection import train_test_split\n",
    "from sklearn.neighbors import NearestNeighbors"
   ]
  },
  {
   "cell_type": "code",
   "execution_count": 13,
   "metadata": {},
   "outputs": [],
   "source": [
    "from sagemaker import get_execution_role\n",
    "import boto3\n",
    "from s3fs.core import S3FileSystem\n",
    "s3 = S3FileSystem(anon=False)\n",
    "role = get_execution_role()\n",
    "bucket='instacartresearchsymposium'\n",
    "mapper = joblib.load(\"userProductTotal_pivot_sparce_mapper\")\n",
    "userProductTotal_pivot_sparce = joblib.load(\"userProductTotal_pivot_sparce\")\n",
    "data_key = 'orig_products.pickle'\n",
    "products = joblib.load(s3.open('{}/{}'.format(bucket, data_key), mode='rb'))"
   ]
  },
  {
   "cell_type": "code",
   "execution_count": 8,
   "metadata": {},
   "outputs": [
    {
     "data": {
      "text/plain": [
       "NearestNeighbors(algorithm='brute', leaf_size=30, metric='cosine',\n",
       "         metric_params=None, n_jobs=-1, n_neighbors=20, p=2, radius=1.0)"
      ]
     },
     "execution_count": 8,
     "metadata": {},
     "output_type": "execute_result"
    }
   ],
   "source": [
    "knn = NearestNeighbors(metric='cosine', algorithm='brute', n_neighbors=20, n_jobs=-1)\n",
    "knn.fit(userProductTotal_pivot_sparce)\n"
   ]
  },
  {
   "cell_type": "code",
   "execution_count": 5,
   "metadata": {},
   "outputs": [
    {
     "data": {
      "text/plain": [
       "4"
      ]
     },
     "execution_count": 5,
     "metadata": {},
     "output_type": "execute_result"
    }
   ],
   "source": [
    "# create mapper from movie title to index\n",
    "\n",
    "\n",
    "def getIndexForProductID(productID): \n",
    "    return mapper.loc[mapper.ProductID == productID][\"index\"].values[0]\n",
    "getIndexForProductID(23)"
   ]
  },
  {
   "cell_type": "code",
   "execution_count": 9,
   "metadata": {},
   "outputs": [],
   "source": [
    "def makeProductRecommendation(model, data, productID, numRecommendations):\n",
    "    model.fit(data)\n",
    "    print(\"Product ID inserted:\", productID, products[products.ProductID == productID][\"ProductName\"].to_string(index=False))\n",
    "    print(\"Recommending....\")\n",
    "    distances,indices = model.kneighbors(data[getIndexForProductID(productID)], n_neighbors = numRecommendations + 1)\n",
    "    raw_recommends = \\\n",
    "        sorted(list(zip(indices.squeeze().tolist(), distances.squeeze().tolist())), key=lambda x: x[1])[:0:-1]\n",
    "    # print recommendations\n",
    "    #print(raw_recommends)\n",
    "    for i, (productID, dist) in enumerate(raw_recommends):\n",
    "        print('{0}: {1}, with distance of {2}'.format(i+1, products[products.ProductID == productID][\"ProductName\"].to_string(index=False), dist))"
   ]
  },
  {
   "cell_type": "code",
   "execution_count": 14,
   "metadata": {},
   "outputs": [
    {
     "name": "stdout",
     "output_type": "stream",
     "text": [
      "Product ID inserted: 21137  Organic Strawberries\n",
      "Recommending....\n",
      "1:  Unsweetened Strawberry Kiwi Water, with distance of 0.5410525998524192\n",
      "2:  Garlic Asiago Brazilian Cheese Bread, with distance of 0.5248754978423431\n",
      "3:  Chicken & vegetable dumplings with rice in an ..., with distance of 0.5009665165843328\n",
      "4:  Original English Muffins, with distance of 0.4858102812322225\n",
      "5:  Mung Bean Pasta, with distance of 0.4801123950004902\n"
     ]
    }
   ],
   "source": [
    "makeProductRecommendation(knn,userProductTotal_pivot_sparce, 21137, 5)"
   ]
  },
  {
   "cell_type": "code",
   "execution_count": 15,
   "metadata": {},
   "outputs": [
    {
     "name": "stdout",
     "output_type": "stream",
     "text": [
      "Product ID inserted: 24852  Banana\n",
      "Recommending....\n",
      "1:  Unsweetened Strawberry Kiwi Water, with distance of 0.6378966888208069\n",
      "2:  Coffee, Gourmet, All Purpose Grind, Medium, Ha..., with distance of 0.6167822731300237\n",
      "3:  Madagascar Vanilla Ice Cream, with distance of 0.6076141034735598\n",
      "4:  Total 2% with Raspberry Pomegranate Lowfat Gre..., with distance of 0.6042202321080975\n",
      "5:  Raisin Brown Bread, with distance of 0.5749582172432766\n"
     ]
    }
   ],
   "source": [
    "makeProductRecommendation(knn,userProductTotal_pivot_sparce, 24852, 5)"
   ]
  },
  {
   "cell_type": "code",
   "execution_count": 16,
   "metadata": {},
   "outputs": [
    {
     "name": "stdout",
     "output_type": "stream",
     "text": [
      "Product ID inserted: 21903  Organic Baby Spinach\n",
      "Recommending....\n",
      "1:  Original English Muffins, with distance of 0.5912642455707927\n",
      "2:  Organic Diced with Garlic & Onion Tomatoes, with distance of 0.5847140747533568\n",
      "3:  Mung Bean Pasta, with distance of 0.5763691622348515\n",
      "4:  Simply Clean Fragrance Free Wipes, with distance of 0.563443127112754\n",
      "5:  Coffee, Gourmet, All Purpose Grind, Medium, Ha..., with distance of 0.5410525998524192\n"
     ]
    }
   ],
   "source": [
    "makeProductRecommendation(knn,userProductTotal_pivot_sparce, 21903, 5)"
   ]
  },
  {
   "cell_type": "code",
   "execution_count": 17,
   "metadata": {},
   "outputs": [
    {
     "name": "stdout",
     "output_type": "stream",
     "text": [
      "Product ID inserted: 47766  Organic Avocado\n",
      "Recommending....\n",
      "1:  Simply Clean Fragrance Free Wipes, with distance of 0.6746344060337235\n",
      "2:  Organic Popped Corn Simply Salted, with distance of 0.6441866568203056\n",
      "3:  Unsweetened Strawberry Kiwi Water, with distance of 0.6193569531747778\n",
      "4:  Organic Daikon Radish Bunch, with distance of 0.6076141034735598\n",
      "5:  Total 2% with Raspberry Pomegranate Lowfat Gre..., with distance of 0.5754492045508461\n"
     ]
    }
   ],
   "source": [
    "makeProductRecommendation(knn,userProductTotal_pivot_sparce, 47766, 5)"
   ]
  },
  {
   "cell_type": "code",
   "execution_count": null,
   "metadata": {},
   "outputs": [],
   "source": []
  }
 ],
 "metadata": {
  "kernelspec": {
   "display_name": "conda_python3",
   "language": "python",
   "name": "conda_python3"
  },
  "language_info": {
   "codemirror_mode": {
    "name": "ipython",
    "version": 3
   },
   "file_extension": ".py",
   "mimetype": "text/x-python",
   "name": "python",
   "nbconvert_exporter": "python",
   "pygments_lexer": "ipython3",
   "version": "3.6.5"
  }
 },
 "nbformat": 4,
 "nbformat_minor": 4
}
