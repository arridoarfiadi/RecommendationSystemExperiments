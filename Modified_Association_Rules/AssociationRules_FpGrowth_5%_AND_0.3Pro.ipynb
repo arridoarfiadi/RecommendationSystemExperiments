{
 "cells": [
  {
   "cell_type": "markdown",
   "metadata": {},
   "source": [
    "# Import Libraries"
   ]
  },
  {
   "cell_type": "code",
   "execution_count": 1,
   "metadata": {},
   "outputs": [
    {
     "name": "stdout",
     "output_type": "stream",
     "text": [
      "Requirement already satisfied: mlxtend in /home/ec2-user/anaconda3/envs/python3/lib/python3.6/site-packages (0.17.0)\n",
      "Requirement already satisfied: pandas>=0.24.2 in /home/ec2-user/anaconda3/envs/python3/lib/python3.6/site-packages (from mlxtend) (0.24.2)\n",
      "Requirement already satisfied: numpy>=1.16.2 in /home/ec2-user/anaconda3/envs/python3/lib/python3.6/site-packages (from mlxtend) (1.17.1)\n",
      "Requirement already satisfied: joblib>=0.13.2 in /home/ec2-user/anaconda3/envs/python3/lib/python3.6/site-packages (from mlxtend) (0.13.2)\n",
      "Requirement already satisfied: scipy>=1.2.1 in /home/ec2-user/anaconda3/envs/python3/lib/python3.6/site-packages (from mlxtend) (1.3.1)\n",
      "Requirement already satisfied: scikit-learn>=0.20.3 in /home/ec2-user/anaconda3/envs/python3/lib/python3.6/site-packages (from mlxtend) (0.20.3)\n",
      "Requirement already satisfied: setuptools in /home/ec2-user/anaconda3/envs/python3/lib/python3.6/site-packages (from mlxtend) (39.1.0)\n",
      "Requirement already satisfied: matplotlib>=3.0.0 in /home/ec2-user/anaconda3/envs/python3/lib/python3.6/site-packages (from mlxtend) (3.0.3)\n",
      "Requirement already satisfied: pytz>=2011k in /home/ec2-user/anaconda3/envs/python3/lib/python3.6/site-packages (from pandas>=0.24.2->mlxtend) (2018.4)\n",
      "Requirement already satisfied: python-dateutil>=2.5.0 in /home/ec2-user/anaconda3/envs/python3/lib/python3.6/site-packages (from pandas>=0.24.2->mlxtend) (2.7.3)\n",
      "Requirement already satisfied: kiwisolver>=1.0.1 in /home/ec2-user/anaconda3/envs/python3/lib/python3.6/site-packages (from matplotlib>=3.0.0->mlxtend) (1.0.1)\n",
      "Requirement already satisfied: pyparsing!=2.0.4,!=2.1.2,!=2.1.6,>=2.0.1 in /home/ec2-user/anaconda3/envs/python3/lib/python3.6/site-packages (from matplotlib>=3.0.0->mlxtend) (2.2.0)\n",
      "Requirement already satisfied: cycler>=0.10 in /home/ec2-user/anaconda3/envs/python3/lib/python3.6/site-packages (from matplotlib>=3.0.0->mlxtend) (0.10.0)\n",
      "Requirement already satisfied: six>=1.5 in /home/ec2-user/anaconda3/envs/python3/lib/python3.6/site-packages (from python-dateutil>=2.5.0->pandas>=0.24.2->mlxtend) (1.11.0)\n",
      "\u001b[33mYou are using pip version 10.0.1, however version 19.2.3 is available.\n",
      "You should consider upgrading via the 'pip install --upgrade pip' command.\u001b[0m\n",
      "Requirement already satisfied: pyfpgrowth in /home/ec2-user/anaconda3/envs/python3/lib/python3.6/site-packages (1.0)\n",
      "\u001b[33mYou are using pip version 10.0.1, however version 19.2.3 is available.\n",
      "You should consider upgrading via the 'pip install --upgrade pip' command.\u001b[0m\n"
     ]
    }
   ],
   "source": [
    "! pip install mlxtend\n",
    "! pip install pyfpgrowth\n",
    "from mlxtend.frequent_patterns import association_rules, apriori\n",
    "import pandas as pd\n",
    "from mlxtend.preprocessing import TransactionEncoder\n",
    "from sqlalchemy import create_engine\n",
    "from sklearn.externals import joblib\n",
    "import pyfpgrowth as fpg\n",
    "from sagemaker import get_execution_role\n",
    "import boto3\n",
    "from s3fs.core import S3FileSystem\n",
    "import pickle\n",
    "import pyfpgrowth as fpg\n",
    "pd.set_option('display.max_colwidth', -1)\n",
    "pd.set_option('display.max_column', None)"
   ]
  },
  {
   "cell_type": "markdown",
   "metadata": {},
   "source": [
    "# Get Data"
   ]
  },
  {
   "cell_type": "code",
   "execution_count": 2,
   "metadata": {},
   "outputs": [],
   "source": [
    "role = get_execution_role()\n",
    "bucket='instacartresearchsymposium'\n",
    "data_key = 'productPerUser.pickle'\n",
    "s3 = S3FileSystem(anon=False)\n",
    "produtcsPerUser = joblib.load(s3.open('{}/{}'.format(bucket, data_key), mode='rb'))"
   ]
  },
  {
   "cell_type": "markdown",
   "metadata": {},
   "source": [
    "# Get Rules"
   ]
  },
  {
   "cell_type": "code",
   "execution_count": 3,
   "metadata": {},
   "outputs": [],
   "source": [
    "def getThreshold(percentage, numberOfRow):\n",
    "    return int((percentage/100) * numberOfRow)"
   ]
  },
  {
   "cell_type": "code",
   "execution_count": 4,
   "metadata": {},
   "outputs": [],
   "source": [
    "def getRules(data,probabillity, thresholdPercentage):\n",
    "    patterns = fpg.find_frequent_patterns(data, getThreshold(thresholdPercentage,len(data)))\n",
    "    rules = fpg.generate_association_rules(patterns, probabillity)\n",
    "    return rules"
   ]
  },
  {
   "cell_type": "markdown",
   "metadata": {},
   "source": [
    "# Percentage:5.0% Probabillity:0.3"
   ]
  },
  {
   "cell_type": "code",
   "execution_count": 5,
   "metadata": {},
   "outputs": [
    {
     "data": {
      "text/plain": [
       "{(25890,): ((24852,), 0.5985318386160587),\n",
       " (20114,): ((26209,), 0.6031934405005934),\n",
       " (44142,): ((24852,), 0.580454294740009),\n",
       " (34969,): ((24852,), 0.58765419963631),\n",
       " (5876, 13176): ((21137,), 0.6626850814980714),\n",
       " (5876, 47209): ((13176,), 0.688383095709993),\n",
       " (13176, 47209): ((21137,), 0.6441183488427583),\n",
       " (5876, 21137): ((13176,), 0.6782985226693836),\n",
       " (13176, 21137): ((24852,), 0.36851645730640803),\n",
       " (21137, 21903): ((13176,), 0.5871658497584037),\n",
       " (21137, 40706): ((21903,), 0.6267046128305467),\n",
       " (21903, 40706): ((21137,), 0.6457327875862912),\n",
       " (21137, 27966): ((13176,), 0.6415918225574356),\n",
       " (21903, 27966): ((21137,), 0.7183052617835226),\n",
       " (13176, 27966): ((21137,), 0.6901152860802733),\n",
       " (21137, 47209): ((13176,), 0.6653931476460438),\n",
       " (13176, 21903): ((21137,), 0.6135711431581241),\n",
       " (21903, 45007): ((21137,), 0.6254044462999687),\n",
       " (21137, 45007): ((21903,), 0.6610767872903796),\n",
       " (21903, 22935): ((21137,), 0.6350718301061836),\n",
       " (22935, 26209): ((21903,), 0.6369215662206947),\n",
       " (21137, 22935): ((21903,), 0.6277526239967072),\n",
       " (21137, 24964): ((21903,), 0.6539885897307577),\n",
       " (21903, 24964): ((21137,), 0.6141843304977206),\n",
       " (21903, 47626): ((24852,), 0.5955527985875841),\n",
       " (24964, 47626): ((21903,), 0.6636873574554645),\n",
       " (21903, 24852): ((21137,), 0.5664531158998253),\n",
       " (24852, 24964): ((21903,), 0.6487228455478634),\n",
       " (21137, 39275): ((13176,), 0.5898771367521367),\n",
       " (39275, 47209): ((21137,), 0.7311499864388392),\n",
       " (21137, 24852): ((13176,), 0.40830132835347593),\n",
       " (24852, 39275): ((21137,), 0.6147631502470212),\n",
       " (13176, 39275): ((21137,), 0.6765201409097871),\n",
       " (13176, 47766): ((21137,), 0.6043190729794581),\n",
       " (26209, 47626): ((24852,), 0.6005401003043422),\n",
       " (21903, 47766): ((24852,), 0.610672027045548),\n",
       " (24852, 26209): ((47626,), 0.5736161152964298),\n",
       " (24852, 47766): ((21903,), 0.546059888067323),\n",
       " (24852, 47626): ((21903,), 0.46084259498578445),\n",
       " (24852,): ((21137,), 0.37282101806239737),\n",
       " (13176,): ((24852,), 0.3206914934125352),\n",
       " (16797, 24852): ((21137,), 0.4854206598425839),\n",
       " (16797, 47626): ((24852,), 0.7058115978728792),\n",
       " (16797, 21137): ((24852,), 0.5902509173856987),\n",
       " (16797, 21903): ((21137,), 0.6455157089068576),\n",
       " (13176, 47626): ((21137,), 0.5863309352517986),\n",
       " (13176, 24852): ((21137,), 0.5503680835905961)}"
      ]
     },
     "execution_count": 5,
     "metadata": {},
     "output_type": "execute_result"
    }
   ],
   "source": [
    "getRules(produtcsPerUser.ProductID,0.3,5)"
   ]
  },
  {
   "cell_type": "markdown",
   "metadata": {},
   "source": [
    "# Percentage:5.0% Probabillity:0.3"
   ]
  },
  {
   "cell_type": "code",
   "execution_count": null,
   "metadata": {},
   "outputs": [],
   "source": []
  }
 ],
 "metadata": {
  "kernelspec": {
   "display_name": "conda_python3",
   "language": "python",
   "name": "conda_python3"
  },
  "language_info": {
   "codemirror_mode": {
    "name": "ipython",
    "version": 3
   },
   "file_extension": ".py",
   "mimetype": "text/x-python",
   "name": "python",
   "nbconvert_exporter": "python",
   "pygments_lexer": "ipython3",
   "version": "3.6.5"
  }
 },
 "nbformat": 4,
 "nbformat_minor": 4
}
