{
 "cells": [
  {
   "cell_type": "markdown",
   "metadata": {},
   "source": [
    "# Import Libraries"
   ]
  },
  {
   "cell_type": "code",
   "execution_count": 7,
   "metadata": {},
   "outputs": [
    {
     "name": "stdout",
     "output_type": "stream",
     "text": [
      "Requirement already satisfied: mlxtend in /home/ec2-user/anaconda3/envs/python3/lib/python3.6/site-packages (0.17.0)\n",
      "Requirement already satisfied: joblib>=0.13.2 in /home/ec2-user/anaconda3/envs/python3/lib/python3.6/site-packages (from mlxtend) (0.13.2)\n",
      "Requirement already satisfied: scikit-learn>=0.20.3 in /home/ec2-user/anaconda3/envs/python3/lib/python3.6/site-packages (from mlxtend) (0.20.3)\n",
      "Requirement already satisfied: setuptools in /home/ec2-user/anaconda3/envs/python3/lib/python3.6/site-packages (from mlxtend) (39.1.0)\n",
      "Requirement already satisfied: matplotlib>=3.0.0 in /home/ec2-user/anaconda3/envs/python3/lib/python3.6/site-packages (from mlxtend) (3.0.3)\n",
      "Requirement already satisfied: pandas>=0.24.2 in /home/ec2-user/anaconda3/envs/python3/lib/python3.6/site-packages (from mlxtend) (0.24.2)\n",
      "Requirement already satisfied: numpy>=1.16.2 in /home/ec2-user/anaconda3/envs/python3/lib/python3.6/site-packages (from mlxtend) (1.17.1)\n",
      "Requirement already satisfied: scipy>=1.2.1 in /home/ec2-user/anaconda3/envs/python3/lib/python3.6/site-packages (from mlxtend) (1.3.1)\n",
      "Requirement already satisfied: kiwisolver>=1.0.1 in /home/ec2-user/anaconda3/envs/python3/lib/python3.6/site-packages (from matplotlib>=3.0.0->mlxtend) (1.0.1)\n",
      "Requirement already satisfied: python-dateutil>=2.1 in /home/ec2-user/anaconda3/envs/python3/lib/python3.6/site-packages (from matplotlib>=3.0.0->mlxtend) (2.7.3)\n",
      "Requirement already satisfied: pyparsing!=2.0.4,!=2.1.2,!=2.1.6,>=2.0.1 in /home/ec2-user/anaconda3/envs/python3/lib/python3.6/site-packages (from matplotlib>=3.0.0->mlxtend) (2.2.0)\n",
      "Requirement already satisfied: cycler>=0.10 in /home/ec2-user/anaconda3/envs/python3/lib/python3.6/site-packages (from matplotlib>=3.0.0->mlxtend) (0.10.0)\n",
      "Requirement already satisfied: pytz>=2011k in /home/ec2-user/anaconda3/envs/python3/lib/python3.6/site-packages (from pandas>=0.24.2->mlxtend) (2018.4)\n",
      "Requirement already satisfied: six>=1.5 in /home/ec2-user/anaconda3/envs/python3/lib/python3.6/site-packages (from python-dateutil>=2.1->matplotlib>=3.0.0->mlxtend) (1.11.0)\n",
      "\u001b[33mYou are using pip version 10.0.1, however version 19.2.3 is available.\n",
      "You should consider upgrading via the 'pip install --upgrade pip' command.\u001b[0m\n",
      "Requirement already satisfied: pyfpgrowth in /home/ec2-user/anaconda3/envs/python3/lib/python3.6/site-packages (1.0)\n",
      "\u001b[33mYou are using pip version 10.0.1, however version 19.2.3 is available.\n",
      "You should consider upgrading via the 'pip install --upgrade pip' command.\u001b[0m\n"
     ]
    }
   ],
   "source": [
    "! pip install mlxtend\n",
    "! pip install pyfpgrowth\n",
    "from mlxtend.frequent_patterns import association_rules, apriori\n",
    "import pandas as pd\n",
    "from mlxtend.preprocessing import TransactionEncoder\n",
    "from sqlalchemy import create_engine\n",
    "from sklearn.externals import joblib\n",
    "import pyfpgrowth as fpg\n",
    "from sagemaker import get_execution_role\n",
    "import boto3\n",
    "from s3fs.core import S3FileSystem\n",
    "import pickle\n",
    "import pyfpgrowth as fpg\n",
    "pd.set_option('display.max_colwidth', -1)\n",
    "pd.set_option('display.max_column', None)"
   ]
  },
  {
   "cell_type": "markdown",
   "metadata": {},
   "source": [
    "# Get Data"
   ]
  },
  {
   "cell_type": "code",
   "execution_count": 8,
   "metadata": {},
   "outputs": [],
   "source": [
    "role = get_execution_role()\n",
    "bucket='instacartresearchsymposium'\n",
    "data_key = 'productPerUser.pickle'\n",
    "s3 = S3FileSystem(anon=False)\n",
    "produtcsPerUser = joblib.load(s3.open('{}/{}'.format(bucket, data_key), mode='rb'))"
   ]
  },
  {
   "cell_type": "markdown",
   "metadata": {},
   "source": [
    "# Get Rules"
   ]
  },
  {
   "cell_type": "code",
   "execution_count": 9,
   "metadata": {},
   "outputs": [],
   "source": [
    "def getThreshold(percentage, numberOfRow):\n",
    "    return int((percentage/100) * numberOfRow)"
   ]
  },
  {
   "cell_type": "code",
   "execution_count": 10,
   "metadata": {},
   "outputs": [],
   "source": [
    "def getRules(data,probabillity, thresholdPercentage):\n",
    "    patterns = fpg.find_frequent_patterns(data, getThreshold(thresholdPercentage,len(data)))\n",
    "    rules = fpg.generate_association_rules(patterns, probabillity)\n",
    "    return rules"
   ]
  },
  {
   "cell_type": "markdown",
   "metadata": {},
   "source": [
    "# Percentage:7.5% Probabillity:0.3"
   ]
  },
  {
   "cell_type": "code",
   "execution_count": 11,
   "metadata": {},
   "outputs": [
    {
     "data": {
      "text/plain": [
       "{(28204,): ((24852,), 0.6183025664115264),\n",
       " (8518,): ((21903,), 0.5761452286760085),\n",
       " (31717,): ((26209,), 0.5786026990846268),\n",
       " (4920,): ((24852,), 0.5575221238938053),\n",
       " (49683,): ((24852,), 0.6219305673158341),\n",
       " (4605,): ((24852,), 0.5914759578297762),\n",
       " (24852,): ((21137,), 0.37282101806239737),\n",
       " (13176, 21137): ((21903,), 0.5371601208459215),\n",
       " (13176, 47209): ((21137,), 0.6441183488427583),\n",
       " (21137, 47209): ((13176,), 0.6653931476460438),\n",
       " (13176,): ((24852,), 0.3206914934125352),\n",
       " (13176, 21903): ((21137,), 0.6135711431581241),\n",
       " (21137, 21903): ((13176,), 0.5871658497584037)}"
      ]
     },
     "execution_count": 11,
     "metadata": {},
     "output_type": "execute_result"
    }
   ],
   "source": [
    "getRules(produtcsPerUser.ProductID,0.3,7.5)"
   ]
  },
  {
   "cell_type": "code",
   "execution_count": null,
   "metadata": {},
   "outputs": [],
   "source": []
  },
  {
   "cell_type": "code",
   "execution_count": null,
   "metadata": {},
   "outputs": [],
   "source": []
  }
 ],
 "metadata": {
  "kernelspec": {
   "display_name": "conda_python3",
   "language": "python",
   "name": "conda_python3"
  },
  "language_info": {
   "codemirror_mode": {
    "name": "ipython",
    "version": 3
   },
   "file_extension": ".py",
   "mimetype": "text/x-python",
   "name": "python",
   "nbconvert_exporter": "python",
   "pygments_lexer": "ipython3",
   "version": "3.6.5"
  }
 },
 "nbformat": 4,
 "nbformat_minor": 4
}
